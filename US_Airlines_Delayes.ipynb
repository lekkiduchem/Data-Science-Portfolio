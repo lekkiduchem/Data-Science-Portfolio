{
 "cells": [
  {
   "cell_type": "markdown",
   "metadata": {},
   "source": [
    "Zadanie opiera się na danych dostępnych ogólnie pod linkiem:\n",
    "http://stat-computing.org/dataexpo/2009/the-data.html\n",
    "1. Stwórz set z latami 2007 i 2008\n",
    "2. Scharakteryzuj wybranego przewoźnika (UniqueCarrier) na przestrzeni tych dwóch lat na podstawie dostępnych danych.\n",
    "3. Wiążąc kilka zmiennych ze sobą, wykaż ciekawą (we własnej ocenie) zależność dla jednego carriera lub dla całej grupy"
   ]
  },
  {
   "cell_type": "markdown",
   "metadata": {},
   "source": [
    "## Task #1 : Stwórz set z latami 2007 i 2008\n",
    "We want to import two datasets, for year 2007 and 2008. Data is located <a href=\"http://stat-computing.org/dataexpo/2009/the-data.html\">here</a>. Data is compressed using bzip copression format. We want to avoid downloading the data to our hard-drive (cause it would hinder this notebook's code reusability), therefore we'll attempt to download data, decompress it and assign it to Pandas.DataFrame using built-in Pandas method - read_csv(URL, compression=\"\"bz2\").\n"
   ]
  },
  {
   "cell_type": "code",
   "execution_count": 1,
   "metadata": {},
   "outputs": [
    {
     "name": "stdout",
     "output_type": "stream",
     "text": [
      "Python: 3.5.2 (default, Nov 17 2016, 17:05:23) \n",
      "[GCC 5.4.0 20160609]\n",
      "NumPy: 1.13.0\n",
      "Pandas: 0.20.2\n",
      "Plotly: 2.0.11\n"
     ]
    }
   ],
   "source": [
    "import sys\n",
    "import pkg_resources\n",
    "import numpy as np\n",
    "import pandas as pd\n",
    "pd.set_option('display.max_columns', 30)\n",
    "\n",
    "import plotly.plotly as py\n",
    "import plotly.graph_objs as go\n",
    "# plotly.offline.init_notebook_mode(connected=True)\n",
    "\n",
    "print ('Python:', sys.version)\n",
    "print ('NumPy:', np.__version__)\n",
    "print ('Pandas:', pd.__version__)\n",
    "print ('Plotly:', pkg_resources.get_distribution(\"plotly\").version)"
   ]
  },
  {
   "cell_type": "markdown",
   "metadata": {},
   "source": [
    "Let's check how much data do we have to download"
   ]
  },
  {
   "cell_type": "code",
   "execution_count": 2,
   "metadata": {},
   "outputs": [
    {
     "name": "stdout",
     "output_type": "stream",
     "text": [
      "Total size of compressed datasets to be downloaded: 224.12 MB\n"
     ]
    }
   ],
   "source": [
    "import urllib.request\n",
    "site1, site2 = urllib.request.urlopen('http://stat-computing.org/dataexpo/2009/2008.csv.bz2'),\\\n",
    "               urllib.request.urlopen('http://stat-computing.org/dataexpo/2009/2007.csv.bz2')\n",
    "print('Total size of compressed datasets to be downloaded: {:.2f} MB'.format( int(site1.length + site2.length) / float(1 << 20)))"
   ]
  },
  {
   "cell_type": "markdown",
   "metadata": {},
   "source": [
    "Grab datasets"
   ]
  },
  {
   "cell_type": "code",
   "execution_count": 4,
   "metadata": {
    "collapsed": true
   },
   "outputs": [],
   "source": [
    "df_2008 = pd.read_csv('http://stat-computing.org/dataexpo/2009/2008.csv.bz2', compression='bz2', parse_dates=[[0,1,2]])\n",
    "df_2007 = pd.read_csv('http://stat-computing.org/dataexpo/2009/2007.csv.bz2', compression='bz2', parse_dates=[[0,1,2]])"
   ]
  },
  {
   "cell_type": "markdown",
   "metadata": {},
   "source": [
    "Let's check column integrity before concatenating datasets"
   ]
  },
  {
   "cell_type": "code",
   "execution_count": 5,
   "metadata": {},
   "outputs": [
    {
     "data": {
      "text/plain": [
       "True"
      ]
     },
     "execution_count": 5,
     "metadata": {},
     "output_type": "execute_result"
    }
   ],
   "source": [
    "(df_2008.columns == df_2007.columns).all()"
   ]
  },
  {
   "cell_type": "code",
   "execution_count": 6,
   "metadata": {
    "collapsed": true
   },
   "outputs": [],
   "source": [
    "df = pd.concat([df_2008, df_2007])\n",
    "del df_2008, df_2007 # just in case, let's free some memory"
   ]
  },
  {
   "cell_type": "markdown",
   "metadata": {},
   "source": [
    "Check if data from both years was imported"
   ]
  },
  {
   "cell_type": "code",
   "execution_count": 7,
   "metadata": {},
   "outputs": [
    {
     "data": {
      "text/plain": [
       "2007    7453215\n",
       "2008    7009728\n",
       "Name: Year_Month_DayofMonth, dtype: int64"
      ]
     },
     "execution_count": 7,
     "metadata": {},
     "output_type": "execute_result"
    }
   ],
   "source": [
    "pd.DatetimeIndex(df['Year_Month_DayofMonth']).year.value_counts()"
   ]
  },
  {
   "cell_type": "markdown",
   "metadata": {},
   "source": [
    "### we successtuflly created dataset with 2007 and 2008 data"
   ]
  },
  {
   "cell_type": "markdown",
   "metadata": {},
   "source": [
    "Let's explore our dataset"
   ]
  },
  {
   "cell_type": "code",
   "execution_count": 8,
   "metadata": {},
   "outputs": [
    {
     "data": {
      "text/plain": [
       "(14462943, 27)"
      ]
     },
     "execution_count": 8,
     "metadata": {},
     "output_type": "execute_result"
    }
   ],
   "source": [
    "df.shape"
   ]
  },
  {
   "cell_type": "code",
   "execution_count": 9,
   "metadata": {
    "scrolled": true
   },
   "outputs": [
    {
     "data": {
      "text/html": [
       "<div>\n",
       "<style>\n",
       "    .dataframe thead tr:only-child th {\n",
       "        text-align: right;\n",
       "    }\n",
       "\n",
       "    .dataframe thead th {\n",
       "        text-align: left;\n",
       "    }\n",
       "\n",
       "    .dataframe tbody tr th {\n",
       "        vertical-align: top;\n",
       "    }\n",
       "</style>\n",
       "<table border=\"1\" class=\"dataframe\">\n",
       "  <thead>\n",
       "    <tr style=\"text-align: right;\">\n",
       "      <th></th>\n",
       "      <th>Year_Month_DayofMonth</th>\n",
       "      <th>DayOfWeek</th>\n",
       "      <th>DepTime</th>\n",
       "      <th>CRSDepTime</th>\n",
       "      <th>ArrTime</th>\n",
       "      <th>CRSArrTime</th>\n",
       "      <th>UniqueCarrier</th>\n",
       "      <th>FlightNum</th>\n",
       "      <th>TailNum</th>\n",
       "      <th>ActualElapsedTime</th>\n",
       "      <th>CRSElapsedTime</th>\n",
       "      <th>AirTime</th>\n",
       "      <th>ArrDelay</th>\n",
       "      <th>DepDelay</th>\n",
       "      <th>Origin</th>\n",
       "      <th>Dest</th>\n",
       "      <th>Distance</th>\n",
       "      <th>TaxiIn</th>\n",
       "      <th>TaxiOut</th>\n",
       "      <th>Cancelled</th>\n",
       "      <th>CancellationCode</th>\n",
       "      <th>Diverted</th>\n",
       "      <th>CarrierDelay</th>\n",
       "      <th>WeatherDelay</th>\n",
       "      <th>NASDelay</th>\n",
       "      <th>SecurityDelay</th>\n",
       "      <th>LateAircraftDelay</th>\n",
       "    </tr>\n",
       "  </thead>\n",
       "  <tbody>\n",
       "    <tr>\n",
       "      <th>0</th>\n",
       "      <td>2008-01-03</td>\n",
       "      <td>4</td>\n",
       "      <td>2003.0</td>\n",
       "      <td>1955</td>\n",
       "      <td>2211.0</td>\n",
       "      <td>2225</td>\n",
       "      <td>WN</td>\n",
       "      <td>335</td>\n",
       "      <td>N712SW</td>\n",
       "      <td>128.0</td>\n",
       "      <td>150.0</td>\n",
       "      <td>116.0</td>\n",
       "      <td>-14.0</td>\n",
       "      <td>8.0</td>\n",
       "      <td>IAD</td>\n",
       "      <td>TPA</td>\n",
       "      <td>810</td>\n",
       "      <td>4.0</td>\n",
       "      <td>8.0</td>\n",
       "      <td>0</td>\n",
       "      <td>NaN</td>\n",
       "      <td>0</td>\n",
       "      <td>NaN</td>\n",
       "      <td>NaN</td>\n",
       "      <td>NaN</td>\n",
       "      <td>NaN</td>\n",
       "      <td>NaN</td>\n",
       "    </tr>\n",
       "    <tr>\n",
       "      <th>1</th>\n",
       "      <td>2008-01-03</td>\n",
       "      <td>4</td>\n",
       "      <td>754.0</td>\n",
       "      <td>735</td>\n",
       "      <td>1002.0</td>\n",
       "      <td>1000</td>\n",
       "      <td>WN</td>\n",
       "      <td>3231</td>\n",
       "      <td>N772SW</td>\n",
       "      <td>128.0</td>\n",
       "      <td>145.0</td>\n",
       "      <td>113.0</td>\n",
       "      <td>2.0</td>\n",
       "      <td>19.0</td>\n",
       "      <td>IAD</td>\n",
       "      <td>TPA</td>\n",
       "      <td>810</td>\n",
       "      <td>5.0</td>\n",
       "      <td>10.0</td>\n",
       "      <td>0</td>\n",
       "      <td>NaN</td>\n",
       "      <td>0</td>\n",
       "      <td>NaN</td>\n",
       "      <td>NaN</td>\n",
       "      <td>NaN</td>\n",
       "      <td>NaN</td>\n",
       "      <td>NaN</td>\n",
       "    </tr>\n",
       "    <tr>\n",
       "      <th>2</th>\n",
       "      <td>2008-01-03</td>\n",
       "      <td>4</td>\n",
       "      <td>628.0</td>\n",
       "      <td>620</td>\n",
       "      <td>804.0</td>\n",
       "      <td>750</td>\n",
       "      <td>WN</td>\n",
       "      <td>448</td>\n",
       "      <td>N428WN</td>\n",
       "      <td>96.0</td>\n",
       "      <td>90.0</td>\n",
       "      <td>76.0</td>\n",
       "      <td>14.0</td>\n",
       "      <td>8.0</td>\n",
       "      <td>IND</td>\n",
       "      <td>BWI</td>\n",
       "      <td>515</td>\n",
       "      <td>3.0</td>\n",
       "      <td>17.0</td>\n",
       "      <td>0</td>\n",
       "      <td>NaN</td>\n",
       "      <td>0</td>\n",
       "      <td>NaN</td>\n",
       "      <td>NaN</td>\n",
       "      <td>NaN</td>\n",
       "      <td>NaN</td>\n",
       "      <td>NaN</td>\n",
       "    </tr>\n",
       "    <tr>\n",
       "      <th>3</th>\n",
       "      <td>2008-01-03</td>\n",
       "      <td>4</td>\n",
       "      <td>926.0</td>\n",
       "      <td>930</td>\n",
       "      <td>1054.0</td>\n",
       "      <td>1100</td>\n",
       "      <td>WN</td>\n",
       "      <td>1746</td>\n",
       "      <td>N612SW</td>\n",
       "      <td>88.0</td>\n",
       "      <td>90.0</td>\n",
       "      <td>78.0</td>\n",
       "      <td>-6.0</td>\n",
       "      <td>-4.0</td>\n",
       "      <td>IND</td>\n",
       "      <td>BWI</td>\n",
       "      <td>515</td>\n",
       "      <td>3.0</td>\n",
       "      <td>7.0</td>\n",
       "      <td>0</td>\n",
       "      <td>NaN</td>\n",
       "      <td>0</td>\n",
       "      <td>NaN</td>\n",
       "      <td>NaN</td>\n",
       "      <td>NaN</td>\n",
       "      <td>NaN</td>\n",
       "      <td>NaN</td>\n",
       "    </tr>\n",
       "    <tr>\n",
       "      <th>4</th>\n",
       "      <td>2008-01-03</td>\n",
       "      <td>4</td>\n",
       "      <td>1829.0</td>\n",
       "      <td>1755</td>\n",
       "      <td>1959.0</td>\n",
       "      <td>1925</td>\n",
       "      <td>WN</td>\n",
       "      <td>3920</td>\n",
       "      <td>N464WN</td>\n",
       "      <td>90.0</td>\n",
       "      <td>90.0</td>\n",
       "      <td>77.0</td>\n",
       "      <td>34.0</td>\n",
       "      <td>34.0</td>\n",
       "      <td>IND</td>\n",
       "      <td>BWI</td>\n",
       "      <td>515</td>\n",
       "      <td>3.0</td>\n",
       "      <td>10.0</td>\n",
       "      <td>0</td>\n",
       "      <td>NaN</td>\n",
       "      <td>0</td>\n",
       "      <td>2.0</td>\n",
       "      <td>0.0</td>\n",
       "      <td>0.0</td>\n",
       "      <td>0.0</td>\n",
       "      <td>32.0</td>\n",
       "    </tr>\n",
       "  </tbody>\n",
       "</table>\n",
       "</div>"
      ],
      "text/plain": [
       "  Year_Month_DayofMonth  DayOfWeek  DepTime  CRSDepTime  ArrTime  CRSArrTime  \\\n",
       "0            2008-01-03          4   2003.0        1955   2211.0        2225   \n",
       "1            2008-01-03          4    754.0         735   1002.0        1000   \n",
       "2            2008-01-03          4    628.0         620    804.0         750   \n",
       "3            2008-01-03          4    926.0         930   1054.0        1100   \n",
       "4            2008-01-03          4   1829.0        1755   1959.0        1925   \n",
       "\n",
       "  UniqueCarrier  FlightNum TailNum  ActualElapsedTime  CRSElapsedTime  \\\n",
       "0            WN        335  N712SW              128.0           150.0   \n",
       "1            WN       3231  N772SW              128.0           145.0   \n",
       "2            WN        448  N428WN               96.0            90.0   \n",
       "3            WN       1746  N612SW               88.0            90.0   \n",
       "4            WN       3920  N464WN               90.0            90.0   \n",
       "\n",
       "   AirTime  ArrDelay  DepDelay Origin Dest  Distance  TaxiIn  TaxiOut  \\\n",
       "0    116.0     -14.0       8.0    IAD  TPA       810     4.0      8.0   \n",
       "1    113.0       2.0      19.0    IAD  TPA       810     5.0     10.0   \n",
       "2     76.0      14.0       8.0    IND  BWI       515     3.0     17.0   \n",
       "3     78.0      -6.0      -4.0    IND  BWI       515     3.0      7.0   \n",
       "4     77.0      34.0      34.0    IND  BWI       515     3.0     10.0   \n",
       "\n",
       "   Cancelled CancellationCode  Diverted  CarrierDelay  WeatherDelay  NASDelay  \\\n",
       "0          0              NaN         0           NaN           NaN       NaN   \n",
       "1          0              NaN         0           NaN           NaN       NaN   \n",
       "2          0              NaN         0           NaN           NaN       NaN   \n",
       "3          0              NaN         0           NaN           NaN       NaN   \n",
       "4          0              NaN         0           2.0           0.0       0.0   \n",
       "\n",
       "   SecurityDelay  LateAircraftDelay  \n",
       "0            NaN                NaN  \n",
       "1            NaN                NaN  \n",
       "2            NaN                NaN  \n",
       "3            NaN                NaN  \n",
       "4            0.0               32.0  "
      ]
     },
     "execution_count": 9,
     "metadata": {},
     "output_type": "execute_result"
    }
   ],
   "source": [
    "df.head()"
   ]
  },
  {
   "cell_type": "code",
   "execution_count": 10,
   "metadata": {},
   "outputs": [
    {
     "data": {
      "text/plain": [
       "Index(['Year_Month_DayofMonth', 'DayOfWeek', 'DepTime', 'CRSDepTime',\n",
       "       'ArrTime', 'CRSArrTime', 'UniqueCarrier', 'FlightNum', 'TailNum',\n",
       "       'ActualElapsedTime', 'CRSElapsedTime', 'AirTime', 'ArrDelay',\n",
       "       'DepDelay', 'Origin', 'Dest', 'Distance', 'TaxiIn', 'TaxiOut',\n",
       "       'Cancelled', 'CancellationCode', 'Diverted', 'CarrierDelay',\n",
       "       'WeatherDelay', 'NASDelay', 'SecurityDelay', 'LateAircraftDelay'],\n",
       "      dtype='object')"
      ]
     },
     "execution_count": 10,
     "metadata": {},
     "output_type": "execute_result"
    }
   ],
   "source": [
    "df.columns"
   ]
  },
  {
   "cell_type": "markdown",
   "metadata": {},
   "source": [
    "## 2. Scharakteryzuj wybranego przewoźnika (UniqueCarrier) na przestrzeni tych dwóch lat na podstawie dostępnych danych."
   ]
  },
  {
   "cell_type": "markdown",
   "metadata": {},
   "source": [
    "Let's do a qucik analysis of <b>cancelled flights</b> for carrier with most number of scheduled flights"
   ]
  },
  {
   "cell_type": "code",
   "execution_count": 11,
   "metadata": {},
   "outputs": [
    {
     "data": {
      "text/plain": [
       "WN    2370625\n",
       "AA    1238742\n",
       "OO    1165041\n",
       "MQ    1031187\n",
       "UA     939517\n",
       "Name: UniqueCarrier, dtype: int64"
      ]
     },
     "execution_count": 11,
     "metadata": {},
     "output_type": "execute_result"
    }
   ],
   "source": [
    "df.UniqueCarrier.value_counts().nlargest(5)"
   ]
  },
  {
   "cell_type": "markdown",
   "metadata": {},
   "source": [
    "Who is \"WN\"?"
   ]
  },
  {
   "cell_type": "code",
   "execution_count": 12,
   "metadata": {},
   "outputs": [
    {
     "data": {
      "text/html": [
       "<div>\n",
       "<style>\n",
       "    .dataframe thead tr:only-child th {\n",
       "        text-align: right;\n",
       "    }\n",
       "\n",
       "    .dataframe thead th {\n",
       "        text-align: left;\n",
       "    }\n",
       "\n",
       "    .dataframe tbody tr th {\n",
       "        vertical-align: top;\n",
       "    }\n",
       "</style>\n",
       "<table border=\"1\" class=\"dataframe\">\n",
       "  <thead>\n",
       "    <tr style=\"text-align: right;\">\n",
       "      <th></th>\n",
       "      <th>Code</th>\n",
       "      <th>Description</th>\n",
       "    </tr>\n",
       "  </thead>\n",
       "  <tbody>\n",
       "    <tr>\n",
       "      <th>1388</th>\n",
       "      <td>WN</td>\n",
       "      <td>Southwest Airlines Co.</td>\n",
       "    </tr>\n",
       "  </tbody>\n",
       "</table>\n",
       "</div>"
      ],
      "text/plain": [
       "     Code             Description\n",
       "1388   WN  Southwest Airlines Co."
      ]
     },
     "execution_count": 12,
     "metadata": {},
     "output_type": "execute_result"
    }
   ],
   "source": [
    "df_carriers = pd.read_csv('http://stat-computing.org/dataexpo/2009/carriers.csv')\n",
    "# df_carriers[df_carriers.Code.isin(df.UniqueCarrier.unique())] # pd.DafaFrame with codes and names of all airlines in our data\n",
    "df_carriers[df_carriers.Code == 'WN']"
   ]
  },
  {
   "cell_type": "markdown",
   "metadata": {},
   "source": [
    "Let's plot percentage of <b>cancelled flights/total count</b> for each carrier"
   ]
  },
  {
   "cell_type": "code",
   "execution_count": 13,
   "metadata": {},
   "outputs": [
    {
     "data": {
      "text/html": [
       "<div>\n",
       "<style>\n",
       "    .dataframe thead tr:only-child th {\n",
       "        text-align: right;\n",
       "    }\n",
       "\n",
       "    .dataframe thead th {\n",
       "        text-align: left;\n",
       "    }\n",
       "\n",
       "    .dataframe tbody tr th {\n",
       "        vertical-align: top;\n",
       "    }\n",
       "</style>\n",
       "<table border=\"1\" class=\"dataframe\">\n",
       "  <thead>\n",
       "    <tr style=\"text-align: right;\">\n",
       "      <th></th>\n",
       "      <th>Description</th>\n",
       "      <th>CancelledFlights</th>\n",
       "    </tr>\n",
       "  </thead>\n",
       "  <tbody>\n",
       "    <tr>\n",
       "      <th>517</th>\n",
       "      <td>Frontier Airlines Inc.</td>\n",
       "      <td>0.36</td>\n",
       "    </tr>\n",
       "    <tr>\n",
       "      <th>619</th>\n",
       "      <td>Hawaiian Airlines Inc.</td>\n",
       "      <td>0.68</td>\n",
       "    </tr>\n",
       "    <tr>\n",
       "      <th>206</th>\n",
       "      <td>Aloha Airlines Inc.</td>\n",
       "      <td>0.79</td>\n",
       "    </tr>\n",
       "    <tr>\n",
       "      <th>537</th>\n",
       "      <td>AirTran Airways Corporation</td>\n",
       "      <td>0.92</td>\n",
       "    </tr>\n",
       "    <tr>\n",
       "      <th>1388</th>\n",
       "      <td>Southwest Airlines Co.</td>\n",
       "      <td>0.94</td>\n",
       "    </tr>\n",
       "    <tr>\n",
       "      <th>377</th>\n",
       "      <td>Continental Air Lines Inc.</td>\n",
       "      <td>1.07</td>\n",
       "    </tr>\n",
       "    <tr>\n",
       "      <th>920</th>\n",
       "      <td>Northwest Airlines Inc.</td>\n",
       "      <td>1.41</td>\n",
       "    </tr>\n",
       "    <tr>\n",
       "      <th>441</th>\n",
       "      <td>Delta Air Lines Inc.</td>\n",
       "      <td>1.44</td>\n",
       "    </tr>\n",
       "    <tr>\n",
       "      <th>221</th>\n",
       "      <td>Alaska Airlines Inc.</td>\n",
       "      <td>1.51</td>\n",
       "    </tr>\n",
       "    <tr>\n",
       "      <th>1308</th>\n",
       "      <td>US Airways Inc. (Merged with America West 9/05...</td>\n",
       "      <td>1.65</td>\n",
       "    </tr>\n",
       "    <tr>\n",
       "      <th>263</th>\n",
       "      <td>JetBlue Airways</td>\n",
       "      <td>1.78</td>\n",
       "    </tr>\n",
       "    <tr>\n",
       "      <th>949</th>\n",
       "      <td>Skywest Airlines Inc.</td>\n",
       "      <td>2.29</td>\n",
       "    </tr>\n",
       "    <tr>\n",
       "      <th>1297</th>\n",
       "      <td>United Air Lines Inc.</td>\n",
       "      <td>2.39</td>\n",
       "    </tr>\n",
       "    <tr>\n",
       "      <th>505</th>\n",
       "      <td>Atlantic Southeast Airlines</td>\n",
       "      <td>2.46</td>\n",
       "    </tr>\n",
       "    <tr>\n",
       "      <th>1447</th>\n",
       "      <td>Expressjet Airlines Inc.</td>\n",
       "      <td>2.57</td>\n",
       "    </tr>\n",
       "    <tr>\n",
       "      <th>100</th>\n",
       "      <td>American Airlines Inc.</td>\n",
       "      <td>2.85</td>\n",
       "    </tr>\n",
       "    <tr>\n",
       "      <th>84</th>\n",
       "      <td>Pinnacle Airlines Inc.</td>\n",
       "      <td>2.89</td>\n",
       "    </tr>\n",
       "    <tr>\n",
       "      <th>936</th>\n",
       "      <td>Comair Inc.</td>\n",
       "      <td>3.55</td>\n",
       "    </tr>\n",
       "    <tr>\n",
       "      <th>1465</th>\n",
       "      <td>Mesa Airlines Inc.</td>\n",
       "      <td>3.73</td>\n",
       "    </tr>\n",
       "    <tr>\n",
       "      <th>848</th>\n",
       "      <td>American Eagle Airlines Inc.</td>\n",
       "      <td>3.99</td>\n",
       "    </tr>\n",
       "  </tbody>\n",
       "</table>\n",
       "</div>"
      ],
      "text/plain": [
       "                                            Description  CancelledFlights\n",
       "517                              Frontier Airlines Inc.              0.36\n",
       "619                              Hawaiian Airlines Inc.              0.68\n",
       "206                                 Aloha Airlines Inc.              0.79\n",
       "537                         AirTran Airways Corporation              0.92\n",
       "1388                             Southwest Airlines Co.              0.94\n",
       "377                          Continental Air Lines Inc.              1.07\n",
       "920                             Northwest Airlines Inc.              1.41\n",
       "441                                Delta Air Lines Inc.              1.44\n",
       "221                                Alaska Airlines Inc.              1.51\n",
       "1308  US Airways Inc. (Merged with America West 9/05...              1.65\n",
       "263                                     JetBlue Airways              1.78\n",
       "949                               Skywest Airlines Inc.              2.29\n",
       "1297                              United Air Lines Inc.              2.39\n",
       "505                         Atlantic Southeast Airlines              2.46\n",
       "1447                           Expressjet Airlines Inc.              2.57\n",
       "100                              American Airlines Inc.              2.85\n",
       "84                               Pinnacle Airlines Inc.              2.89\n",
       "936                                         Comair Inc.              3.55\n",
       "1465                                 Mesa Airlines Inc.              3.73\n",
       "848                        American Eagle Airlines Inc.              3.99"
      ]
     },
     "execution_count": 13,
     "metadata": {},
     "output_type": "execute_result"
    }
   ],
   "source": [
    "df_my_airline = df[df.UniqueCarrier == 'WN']\n",
    "# s_cancelled will hold a pd.Series with indexes:UniqueCarrier(two-character string code) and values:ratio between cancelled flights over total flights(float, rounded)  \n",
    "s_cancelled = (100 * df.groupby('UniqueCarrier')['CancellationCode'].count() / df.UniqueCarrier.value_counts()).round(2) # type(s_cancelled) = pd.Series\n",
    "\n",
    "df_carriers_cancelledFlights = df_carriers.merge(s_cancelled.to_frame(), \n",
    "                                                 left_on='Code', \n",
    "                                                 right_index=True).drop('Code', axis=1)\\\n",
    "                                                                  .rename_axis(mapper={0: 'CancelledFlights'}, axis='columns')\\\n",
    "                                                                  .sort_values(by='CancelledFlights')\n",
    "\n",
    "df_carriers_cancelledFlights"
   ]
  },
  {
   "cell_type": "code",
   "execution_count": 83,
   "metadata": {},
   "outputs": [
    {
     "data": {
      "text/html": [
       "<iframe id=\"igraph\" scrolling=\"no\" style=\"border:none;\" seamless=\"seamless\" src=\"https://plot.ly/~lekkiduchem/4.embed\" height=\"525px\" width=\"100%\"></iframe>"
      ],
      "text/plain": [
       "<plotly.tools.PlotlyDisplay object>"
      ]
     },
     "execution_count": 83,
     "metadata": {},
     "output_type": "execute_result"
    }
   ],
   "source": [
    "# link to online copy: https://plot.ly/~lekkiduchem/4/percentage-of-cancelled-flights-between-competitors/\n",
    "\n",
    "data = [go.Bar(x=df_carriers_cancelledFlights.Description.values, \n",
    "               y=df_carriers_cancelledFlights.CancelledFlights.values, \n",
    "               marker = dict(color=['rgba(204,204,204,1)', 'rgba(204,204,204,1)', 'rgba(204,204,204,1)', 'rgba(204,204,204,1)', 'rgba(222,45,38,0.8)',\n",
    "                                    'rgba(204,204,204,1)', 'rgba(204,204,204,1)', 'rgba(204,204,204,1)', 'rgba(204,204,204,1)', 'rgba(204,204,204,1)',\n",
    "                                    'rgba(204,204,204,1)', 'rgba(204,204,204,1)', 'rgba(204,204,204,1)', 'rgba(204,204,204,1)', 'rgba(204,204,204,1)',\n",
    "                                    'rgba(204,204,204,1)', 'rgba(204,204,204,1)', 'rgba(204,204,204,1)', 'rgba(204,204,204,1)', 'rgba(204,204,204,1)' ]\n",
    "                            ))]\n",
    "\n",
    "layout = go.Layout(title=\"Percentage of cancelled flights between competitors\",\n",
    "                   autosize=True,\n",
    "                   direction=60,\n",
    "                   margin=go.Margin(l=70,\n",
    "                                    r=70,\n",
    "                                    b=120)\n",
    "                   )\n",
    "                 \n",
    "fig = go.Figure(data=data, layout=layout)\n",
    "py.iplot(fig, filename='cancelled flights by company')"
   ]
  },
  {
   "cell_type": "markdown",
   "metadata": {},
   "source": [
    "Let's check value distribution between 4 groups of different cancellation codes for cancelled flights\n",
    "<ol type=\"A\">\n",
    "    <li>Carrier</li>\n",
    "    <li>Weather</li>\n",
    "    <li>National Air System</li>\n",
    "    <li>Security</li>\n",
    "</ol>"
   ]
  },
  {
   "cell_type": "code",
   "execution_count": 17,
   "metadata": {},
   "outputs": [
    {
     "data": {
      "text/html": [
       "<div>\n",
       "<style>\n",
       "    .dataframe thead tr:only-child th {\n",
       "        text-align: right;\n",
       "    }\n",
       "\n",
       "    .dataframe thead th {\n",
       "        text-align: left;\n",
       "    }\n",
       "\n",
       "    .dataframe tbody tr th {\n",
       "        vertical-align: top;\n",
       "    }\n",
       "</style>\n",
       "<table border=\"1\" class=\"dataframe\">\n",
       "  <thead>\n",
       "    <tr style=\"text-align: right;\">\n",
       "      <th></th>\n",
       "      <th>CancellationCode</th>\n",
       "    </tr>\n",
       "  </thead>\n",
       "  <tbody>\n",
       "    <tr>\n",
       "      <th>Carrier</th>\n",
       "      <td>12314</td>\n",
       "    </tr>\n",
       "    <tr>\n",
       "      <th>Weather</th>\n",
       "      <td>8954</td>\n",
       "    </tr>\n",
       "    <tr>\n",
       "      <th>National Air System</th>\n",
       "      <td>1096</td>\n",
       "    </tr>\n",
       "    <tr>\n",
       "      <th>Security</th>\n",
       "      <td>18</td>\n",
       "    </tr>\n",
       "  </tbody>\n",
       "</table>\n",
       "</div>"
      ],
      "text/plain": [
       "                     CancellationCode\n",
       "Carrier                         12314\n",
       "Weather                          8954\n",
       "National Air System              1096\n",
       "Security                           18"
      ]
     },
     "execution_count": 17,
     "metadata": {},
     "output_type": "execute_result"
    }
   ],
   "source": [
    "df_my_airline_cancelled = df_my_airline.CancellationCode.value_counts().to_frame()\\\n",
    "                                                                       .rename_axis(mapper={'A': 'Carrier',\n",
    "                                                                                            'B': 'Weather',\n",
    "                                                                                            'C': 'National Air System',\n",
    "                                                                                            'D': 'Security'}\n",
    "                                                                                   )\n",
    "df_my_airline_cancelled"
   ]
  },
  {
   "cell_type": "code",
   "execution_count": 86,
   "metadata": {},
   "outputs": [
    {
     "data": {
      "text/html": [
       "<iframe id=\"igraph\" scrolling=\"no\" style=\"border:none;\" seamless=\"seamless\" src=\"https://plot.ly/~lekkiduchem/2.embed\" height=\"525px\" width=\"100%\"></iframe>"
      ],
      "text/plain": [
       "<plotly.tools.PlotlyDisplay object>"
      ]
     },
     "execution_count": 86,
     "metadata": {},
     "output_type": "execute_result"
    }
   ],
   "source": [
    "# link to online copy: https://plot.ly/~lekkiduchem/2/southwest-airlines-cancelled-flights-by-reason/\n",
    "\n",
    "values = df_my_airline_cancelled.values\n",
    "labels = df_my_airline_cancelled.index\n",
    "colors = ['rgba(222,45,38,0.8)', 'rgba(204,204,204,1)', 'rgba(194,194,194,1)', 'rgba(184,184,184,1)']\n",
    "\n",
    "trace = [go.Pie(values=values,\n",
    "                labels=labels, \n",
    "                marker=dict(colors=colors))]\n",
    "\n",
    "layout = go.Layout(title=\"Southwest Airlines cancelled flights by reason\")\n",
    "\n",
    "fig = go.Figure(data=trace, layout=layout)\n",
    "py.iplot(fig, filename='WN-cancelled-flights')"
   ]
  },
  {
   "cell_type": "markdown",
   "metadata": {
    "collapsed": true
   },
   "source": [
    "## 3. Wiążąc kilka zmiennych ze sobą, wykaż ciekawą (we własnej ocenie) zależność dla jednego carriera lub dla całej grupy"
   ]
  },
  {
   "cell_type": "markdown",
   "metadata": {},
   "source": [
    "### 3.A TOP 10 Most connected cieties"
   ]
  },
  {
   "cell_type": "code",
   "execution_count": 19,
   "metadata": {},
   "outputs": [
    {
     "data": {
      "text/html": [
       "<div>\n",
       "<style>\n",
       "    .dataframe thead tr:only-child th {\n",
       "        text-align: right;\n",
       "    }\n",
       "\n",
       "    .dataframe thead th {\n",
       "        text-align: left;\n",
       "    }\n",
       "\n",
       "    .dataframe tbody tr th {\n",
       "        vertical-align: top;\n",
       "    }\n",
       "</style>\n",
       "<table border=\"1\" class=\"dataframe\">\n",
       "  <thead>\n",
       "    <tr style=\"text-align: right;\">\n",
       "      <th></th>\n",
       "      <th>iata</th>\n",
       "      <th>airport</th>\n",
       "      <th>city</th>\n",
       "      <th>state</th>\n",
       "      <th>country</th>\n",
       "      <th>lat</th>\n",
       "      <th>long</th>\n",
       "    </tr>\n",
       "  </thead>\n",
       "  <tbody>\n",
       "    <tr>\n",
       "      <th>880</th>\n",
       "      <td>ATL</td>\n",
       "      <td>William B Hartsfield-Atlanta Intl</td>\n",
       "      <td>Atlanta</td>\n",
       "      <td>GA</td>\n",
       "      <td>USA</td>\n",
       "      <td>33.640444</td>\n",
       "      <td>-84.426944</td>\n",
       "    </tr>\n",
       "  </tbody>\n",
       "</table>\n",
       "</div>"
      ],
      "text/plain": [
       "    iata                            airport     city state country        lat  \\\n",
       "880  ATL  William B Hartsfield-Atlanta Intl  Atlanta    GA     USA  33.640444   \n",
       "\n",
       "          long  \n",
       "880 -84.426944  "
      ]
     },
     "execution_count": 19,
     "metadata": {},
     "output_type": "execute_result"
    }
   ],
   "source": [
    "df_airports = pd.read_csv('http://stat-computing.org/dataexpo/2009/airports.csv')\n",
    "df_airports[df_airports.iata == 'ATL']"
   ]
  },
  {
   "cell_type": "code",
   "execution_count": 33,
   "metadata": {},
   "outputs": [
    {
     "data": {
      "text/plain": [
       "ABE  ATL    [152435, 153094, 153550, 154101, 154755, 15531...\n",
       "     BWI                                    [4530693, 155074]\n",
       "     CLE    [102898, 103677, 103969, 104435, 104621, 10471...\n",
       "     CLT    [256204, 257484, 258820, 260158, 261504, 26262...\n",
       "     CVG    [151383, 152063, 152721, 153288, 154386, 15499...\n",
       "     DTW    [457674, 457675, 457676, 457677, 457678, 45767...\n",
       "     ORD    [129113, 129114, 129800, 129801, 129802, 13054...\n",
       "ABI  DFW    [383352, 383353, 383354, 383355, 383356, 38335...\n",
       "ABQ  AMA    [2367, 5805, 8614, 11843, 15279, 18715, 22151,...\n",
       "     ATL    [302992, 303203, 303947, 304232, 304451, 30521...\n",
       "     AUS    [96836, 96837, 96838, 96839, 96840, 96841, 968...\n",
       "     BWI    [2368, 5806, 8615, 11844, 15280, 18716, 22152,...\n",
       "     CLE    [3109245, 3111332, 3120365, 3716592, 3717543, ...\n",
       "     CVG    [303902, 305167, 306473, 308764, 309938, 31116...\n",
       "     DAL    [2369, 2370, 2371, 2372, 2373, 2374, 2375, 237...\n",
       "     DEN    [2378, 2379, 2380, 5814, 5815, 5816, 8625, 862...\n",
       "     DFW    [481032, 481033, 481034, 481035, 481036, 48103...\n",
       "     ELP    [2381, 2382, 2383, 5817, 5818, 8628, 8629, 118...\n",
       "     EWR    [563737, 567989, 568757, 569961, 571732, 57181...\n",
       "     HOU    [2384, 2385, 2386, 5819, 5820, 8630, 8631, 863...\n",
       "     IAD    [241146, 241147, 241148, 241149, 241150, 24115...\n",
       "     IAH    [94057, 94080, 103499, 103575, 103625, 103749,...\n",
       "     LAS    [2387, 2388, 2389, 2390, 2391, 2392, 2393, 582...\n",
       "     LAX    [2394, 2395, 2396, 2397, 5826, 5827, 5828, 582...\n",
       "     LBB    [2398, 5830, 8643, 11874, 15310, 18746, 22182,...\n",
       "     MAF    [2399, 5831, 8644, 11875, 15311, 18747, 22183,...\n",
       "     MCI    [2400, 2401, 5832, 5833, 8645, 8646, 11876, 11...\n",
       "     MCO    [2402, 2403, 5834, 5835, 8647, 8648, 11878, 11...\n",
       "     MDW    [2404, 2405, 5836, 5837, 8649, 8650, 11880, 11...\n",
       "     MSP    [434389, 434390, 434391, 434392, 434393, 43439...\n",
       "                                  ...                        \n",
       "VPS  LGA    [151568, 453934, 7008005, 7008642, 7009119, 70...\n",
       "     MEM    [439976, 439977, 439978, 439979, 439980, 43998...\n",
       "     ORD    [414811, 414812, 414813, 414814, 414815, 41481...\n",
       "WRG  KTN    [533812, 534091, 534635, 534940, 535474, 53562...\n",
       "     PSG    [533783, 534269, 534614, 535132, 535612, 53565...\n",
       "WYS  SLC    [3174727, 3174729, 3174731, 3176236, 3176238, ...\n",
       "XNA  ATL    [170751, 171107, 172453, 172456, 174158, 17416...\n",
       "     CVG    [2712866, 2712867, 2712868, 2712869, 2712870, ...\n",
       "     DCA    [416590, 416591, 416592, 416593, 416594, 41659...\n",
       "     DEN    [170659, 170688, 172374, 172404, 174079, 17410...\n",
       "     DFW    [388636, 388637, 388638, 388639, 388640, 38864...\n",
       "     DTW    [459542, 459543, 459544, 459545, 459546, 45954...\n",
       "     EWR    [102821, 103488, 103890, 104838, 105851, 10651...\n",
       "     IAH    [102859, 102920, 103184, 103346, 103795, 10396...\n",
       "     LAX    [381411, 381412, 381413, 381414, 381415, 38141...\n",
       "     LGA    [421180, 421181, 421182, 421183, 421184, 42118...\n",
       "     MEM    [455351, 455352, 455353, 455354, 455355, 45535...\n",
       "     MIA    [415643, 415644, 415645, 415646, 415647, 41564...\n",
       "     MSP    [465462, 465463, 465464, 465465, 465466, 46546...\n",
       "     ORD    [170108, 170247, 171793, 171801, 171958, 17349...\n",
       "     RDU    [416209, 416211, 416213, 416215, 416218, 41622...\n",
       "     SLC    [170977, 172710, 174412, 179224, 176119, 17763...\n",
       "YAK  CDV    [533805, 533981, 534419, 534876, 535461, 53581...\n",
       "     JNU    [533828, 534278, 534588, 535068, 535546, 53563...\n",
       "YKM  SLC    [169415, 169430, 171018, 171033, 172726, 17442...\n",
       "YUM  IPL    [169985, 170036, 171655, 171716, 173360, 17342...\n",
       "     LAS    [129794, 130540, 131279, 132032, 132750, 13353...\n",
       "     LAX    [169977, 170030, 170033, 171646, 171710, 17171...\n",
       "     PHX    [129795, 129796, 129797, 129798, 129799, 13054...\n",
       "     SLC    [169458, 169545, 171066, 171174, 172774, 17287...\n",
       "Length: 5272, dtype: object"
      ]
     },
     "execution_count": 33,
     "metadata": {},
     "output_type": "execute_result"
    }
   ],
   "source": [
    "# Origin and Dest\n",
    "df_airports_connections = pd.concat([df.Origin, df.Dest], axis=1).rename_axis(mapper={'Origin':'Origin_iata', 'Dest':'Dest_iata'}, axis='columns')\n",
    "connections = df_airports_connections.groupby(['Origin_iata', 'Dest_iata']).groups\n",
    "connections_reversed = df_airports_connections.groupby(['Dest_iata', 'Origin_iata']).groups\n",
    "d = {}\n",
    "\n",
    "for origin, dest in connections:\n",
    "    if (origin, dest) in connections_reversed: \n",
    "        d[origin, dest] = np.append(connections[origin, dest], connections_reversed[origin, dest]).tolist()\n",
    "        \n",
    "pd.Series(d)"
   ]
  },
  {
   "cell_type": "code",
   "execution_count": 22,
   "metadata": {},
   "outputs": [
    {
     "data": {
      "text/plain": [
       "ATL    187\n",
       "ORD    150\n",
       "DFW    135\n",
       "MSP    130\n",
       "DEN    122\n",
       "CVG    119\n",
       "DTW    118\n",
       "IAH    113\n",
       "SLC    113\n",
       "LAS     92\n",
       "dtype: int64"
      ]
     },
     "execution_count": 22,
     "metadata": {},
     "output_type": "execute_result"
    }
   ],
   "source": [
    "s_connections = pd.Series(d).count(level=0).nlargest(10)\n",
    "s_connections"
   ]
  },
  {
   "cell_type": "code",
   "execution_count": 23,
   "metadata": {},
   "outputs": [
    {
     "data": {
      "text/html": [
       "<div>\n",
       "<style>\n",
       "    .dataframe thead tr:only-child th {\n",
       "        text-align: right;\n",
       "    }\n",
       "\n",
       "    .dataframe thead th {\n",
       "        text-align: left;\n",
       "    }\n",
       "\n",
       "    .dataframe tbody tr th {\n",
       "        vertical-align: top;\n",
       "    }\n",
       "</style>\n",
       "<table border=\"1\" class=\"dataframe\">\n",
       "  <thead>\n",
       "    <tr style=\"text-align: right;\">\n",
       "      <th></th>\n",
       "      <th>city</th>\n",
       "      <th>state</th>\n",
       "      <th>airport</th>\n",
       "    </tr>\n",
       "  </thead>\n",
       "  <tbody>\n",
       "    <tr>\n",
       "      <th>0</th>\n",
       "      <td>Atlanta</td>\n",
       "      <td>GA</td>\n",
       "      <td>William B Hartsfield-Atlanta Intl</td>\n",
       "    </tr>\n",
       "    <tr>\n",
       "      <th>1</th>\n",
       "      <td>Covington</td>\n",
       "      <td>KY</td>\n",
       "      <td>Cincinnati Northern Kentucky Intl</td>\n",
       "    </tr>\n",
       "    <tr>\n",
       "      <th>2</th>\n",
       "      <td>Denver</td>\n",
       "      <td>CO</td>\n",
       "      <td>Denver Intl</td>\n",
       "    </tr>\n",
       "    <tr>\n",
       "      <th>3</th>\n",
       "      <td>Dallas-Fort Worth</td>\n",
       "      <td>TX</td>\n",
       "      <td>Dallas-Fort Worth International</td>\n",
       "    </tr>\n",
       "    <tr>\n",
       "      <th>4</th>\n",
       "      <td>Detroit</td>\n",
       "      <td>MI</td>\n",
       "      <td>Detroit Metropolitan-Wayne County</td>\n",
       "    </tr>\n",
       "    <tr>\n",
       "      <th>5</th>\n",
       "      <td>Houston</td>\n",
       "      <td>TX</td>\n",
       "      <td>George Bush Intercontinental</td>\n",
       "    </tr>\n",
       "    <tr>\n",
       "      <th>6</th>\n",
       "      <td>Las Vegas</td>\n",
       "      <td>NV</td>\n",
       "      <td>McCarran International</td>\n",
       "    </tr>\n",
       "    <tr>\n",
       "      <th>7</th>\n",
       "      <td>Minneapolis</td>\n",
       "      <td>MN</td>\n",
       "      <td>Minneapolis-St Paul Intl</td>\n",
       "    </tr>\n",
       "    <tr>\n",
       "      <th>8</th>\n",
       "      <td>Chicago</td>\n",
       "      <td>IL</td>\n",
       "      <td>Chicago O'Hare International</td>\n",
       "    </tr>\n",
       "    <tr>\n",
       "      <th>9</th>\n",
       "      <td>Salt Lake City</td>\n",
       "      <td>UT</td>\n",
       "      <td>Salt Lake City Intl</td>\n",
       "    </tr>\n",
       "  </tbody>\n",
       "</table>\n",
       "</div>"
      ],
      "text/plain": [
       "                city state                            airport\n",
       "0            Atlanta    GA  William B Hartsfield-Atlanta Intl\n",
       "1          Covington    KY  Cincinnati Northern Kentucky Intl\n",
       "2             Denver    CO                        Denver Intl\n",
       "3  Dallas-Fort Worth    TX    Dallas-Fort Worth International\n",
       "4            Detroit    MI  Detroit Metropolitan-Wayne County\n",
       "5            Houston    TX       George Bush Intercontinental\n",
       "6          Las Vegas    NV             McCarran International\n",
       "7        Minneapolis    MN           Minneapolis-St Paul Intl\n",
       "8            Chicago    IL       Chicago O'Hare International\n",
       "9     Salt Lake City    UT                Salt Lake City Intl"
      ]
     },
     "execution_count": 23,
     "metadata": {},
     "output_type": "execute_result"
    }
   ],
   "source": [
    "df_airports.loc[df_airports.iata.isin(s_connections.index), ['city', 'state', 'airport']].reset_index(drop=True)"
   ]
  },
  {
   "cell_type": "code",
   "execution_count": 80,
   "metadata": {},
   "outputs": [
    {
     "data": {
      "text/html": [
       "<iframe id=\"igraph\" scrolling=\"no\" style=\"border:none;\" seamless=\"seamless\" src=\"https://plot.ly/~lekkiduchem/14.embed\" height=\"525px\" width=\"100%\"></iframe>"
      ],
      "text/plain": [
       "<plotly.tools.PlotlyDisplay object>"
      ]
     },
     "execution_count": 80,
     "metadata": {},
     "output_type": "execute_result"
    }
   ],
   "source": [
    "# link to online copy: https://plot.ly/~lekkiduchem/14/top-10-most-connected-airports-in-usa/\n",
    "\n",
    "airports = [ dict(type = 'scattergeo',\n",
    "                  locationmode = 'USA-states',\n",
    "                  lat = df_airports.loc[df_airports.iata.isin(s_connections.index), ['lat']].values,\n",
    "                  lon = df_airports.loc[df_airports.iata.isin(s_connections.index), ['long']].values,\n",
    "                  hoverinfo = 'text',\n",
    "                  text = df_airports.loc[df_airports.iata.isin(s_connections.index), ['airport']].values,\n",
    "                  mode = 'markers',\n",
    "                  marker = dict(size=10, \n",
    "                                color='rgb(255, 0, 0)',\n",
    "                                line = dict(width=1, color='rgba(68, 68, 68, 0)')\n",
    "                               )\n",
    "                 )]\n",
    "\n",
    "layout = dict(\n",
    "        title = 'TOP 10 Most connected airports in USA',\n",
    "        showlegend = False, \n",
    "        geo = dict(\n",
    "            scope='usa',\n",
    "            projection=dict( type='albers usa' ),\n",
    "            showland = True,\n",
    "            landcolor = 'rgb(243, 243, 243)',\n",
    "            countrycolor = 'rgb(204, 204, 204)',\n",
    "        ),\n",
    "    )\n",
    "    \n",
    "fig = dict( data=airports, layout=layout )\n",
    "py.iplot( fig, filename='most-connected-usa-airports' )"
   ]
  },
  {
   "cell_type": "markdown",
   "metadata": {},
   "source": [
    "### 3.B Map of air connections\n",
    "*I always wanted to make one*"
   ]
  },
  {
   "cell_type": "code",
   "execution_count": 34,
   "metadata": {},
   "outputs": [
    {
     "data": {
      "text/html": [
       "<div>\n",
       "<style>\n",
       "    .dataframe thead tr:only-child th {\n",
       "        text-align: right;\n",
       "    }\n",
       "\n",
       "    .dataframe thead th {\n",
       "        text-align: left;\n",
       "    }\n",
       "\n",
       "    .dataframe tbody tr th {\n",
       "        vertical-align: top;\n",
       "    }\n",
       "</style>\n",
       "<table border=\"1\" class=\"dataframe\">\n",
       "  <thead>\n",
       "    <tr style=\"text-align: right;\">\n",
       "      <th></th>\n",
       "      <th>Origin_iata</th>\n",
       "      <th>Dest_iata</th>\n",
       "    </tr>\n",
       "  </thead>\n",
       "  <tbody>\n",
       "    <tr>\n",
       "      <th>0</th>\n",
       "      <td>IAD</td>\n",
       "      <td>TPA</td>\n",
       "    </tr>\n",
       "    <tr>\n",
       "      <th>1</th>\n",
       "      <td>IAD</td>\n",
       "      <td>TPA</td>\n",
       "    </tr>\n",
       "    <tr>\n",
       "      <th>2</th>\n",
       "      <td>IND</td>\n",
       "      <td>BWI</td>\n",
       "    </tr>\n",
       "    <tr>\n",
       "      <th>3</th>\n",
       "      <td>IND</td>\n",
       "      <td>BWI</td>\n",
       "    </tr>\n",
       "    <tr>\n",
       "      <th>4</th>\n",
       "      <td>IND</td>\n",
       "      <td>BWI</td>\n",
       "    </tr>\n",
       "  </tbody>\n",
       "</table>\n",
       "</div>"
      ],
      "text/plain": [
       "  Origin_iata Dest_iata\n",
       "0         IAD       TPA\n",
       "1         IAD       TPA\n",
       "2         IND       BWI\n",
       "3         IND       BWI\n",
       "4         IND       BWI"
      ]
     },
     "execution_count": 34,
     "metadata": {},
     "output_type": "execute_result"
    }
   ],
   "source": [
    "df_airports_connections.head()"
   ]
  },
  {
   "cell_type": "code",
   "execution_count": 35,
   "metadata": {},
   "outputs": [
    {
     "data": {
      "text/html": [
       "<div>\n",
       "<style>\n",
       "    .dataframe thead tr:only-child th {\n",
       "        text-align: right;\n",
       "    }\n",
       "\n",
       "    .dataframe thead th {\n",
       "        text-align: left;\n",
       "    }\n",
       "\n",
       "    .dataframe tbody tr th {\n",
       "        vertical-align: top;\n",
       "    }\n",
       "</style>\n",
       "<table border=\"1\" class=\"dataframe\">\n",
       "  <thead>\n",
       "    <tr style=\"text-align: right;\">\n",
       "      <th></th>\n",
       "      <th>iata</th>\n",
       "      <th>lat</th>\n",
       "      <th>long</th>\n",
       "    </tr>\n",
       "  </thead>\n",
       "  <tbody>\n",
       "    <tr>\n",
       "      <th>0</th>\n",
       "      <td>00M</td>\n",
       "      <td>31.953765</td>\n",
       "      <td>-89.234505</td>\n",
       "    </tr>\n",
       "    <tr>\n",
       "      <th>1</th>\n",
       "      <td>00R</td>\n",
       "      <td>30.685861</td>\n",
       "      <td>-95.017928</td>\n",
       "    </tr>\n",
       "    <tr>\n",
       "      <th>2</th>\n",
       "      <td>00V</td>\n",
       "      <td>38.945749</td>\n",
       "      <td>-104.569893</td>\n",
       "    </tr>\n",
       "    <tr>\n",
       "      <th>3</th>\n",
       "      <td>01G</td>\n",
       "      <td>42.741347</td>\n",
       "      <td>-78.052081</td>\n",
       "    </tr>\n",
       "    <tr>\n",
       "      <th>4</th>\n",
       "      <td>01J</td>\n",
       "      <td>30.688012</td>\n",
       "      <td>-81.905944</td>\n",
       "    </tr>\n",
       "  </tbody>\n",
       "</table>\n",
       "</div>"
      ],
      "text/plain": [
       "  iata        lat        long\n",
       "0  00M  31.953765  -89.234505\n",
       "1  00R  30.685861  -95.017928\n",
       "2  00V  38.945749 -104.569893\n",
       "3  01G  42.741347  -78.052081\n",
       "4  01J  30.688012  -81.905944"
      ]
     },
     "execution_count": 35,
     "metadata": {},
     "output_type": "execute_result"
    }
   ],
   "source": [
    "df_airports_geoloc = df_airports.loc[:,['iata', 'lat', 'long']]\n",
    "df_airports_geoloc.head()"
   ]
  },
  {
   "cell_type": "code",
   "execution_count": 42,
   "metadata": {
    "scrolled": true
   },
   "outputs": [
    {
     "data": {
      "text/html": [
       "<div>\n",
       "<style>\n",
       "    .dataframe thead tr:only-child th {\n",
       "        text-align: right;\n",
       "    }\n",
       "\n",
       "    .dataframe thead th {\n",
       "        text-align: left;\n",
       "    }\n",
       "\n",
       "    .dataframe tbody tr th {\n",
       "        vertical-align: top;\n",
       "    }\n",
       "</style>\n",
       "<table border=\"1\" class=\"dataframe\">\n",
       "  <thead>\n",
       "    <tr style=\"text-align: right;\">\n",
       "      <th></th>\n",
       "      <th>start_lat</th>\n",
       "      <th>start_lon</th>\n",
       "      <th>end_lat</th>\n",
       "      <th>end_lon</th>\n",
       "    </tr>\n",
       "  </thead>\n",
       "  <tbody>\n",
       "    <tr>\n",
       "      <th>0</th>\n",
       "      <td>38.944532</td>\n",
       "      <td>-77.455810</td>\n",
       "      <td>27.975472</td>\n",
       "      <td>-82.533250</td>\n",
       "    </tr>\n",
       "    <tr>\n",
       "      <th>1</th>\n",
       "      <td>38.944532</td>\n",
       "      <td>-77.455810</td>\n",
       "      <td>27.975472</td>\n",
       "      <td>-82.533250</td>\n",
       "    </tr>\n",
       "    <tr>\n",
       "      <th>2</th>\n",
       "      <td>39.717329</td>\n",
       "      <td>-86.294384</td>\n",
       "      <td>39.175402</td>\n",
       "      <td>-76.668198</td>\n",
       "    </tr>\n",
       "    <tr>\n",
       "      <th>3</th>\n",
       "      <td>39.717329</td>\n",
       "      <td>-86.294384</td>\n",
       "      <td>39.175402</td>\n",
       "      <td>-76.668198</td>\n",
       "    </tr>\n",
       "    <tr>\n",
       "      <th>4</th>\n",
       "      <td>39.717329</td>\n",
       "      <td>-86.294384</td>\n",
       "      <td>39.175402</td>\n",
       "      <td>-76.668198</td>\n",
       "    </tr>\n",
       "  </tbody>\n",
       "</table>\n",
       "</div>"
      ],
      "text/plain": [
       "   start_lat  start_lon    end_lat    end_lon\n",
       "0  38.944532 -77.455810  27.975472 -82.533250\n",
       "1  38.944532 -77.455810  27.975472 -82.533250\n",
       "2  39.717329 -86.294384  39.175402 -76.668198\n",
       "3  39.717329 -86.294384  39.175402 -76.668198\n",
       "4  39.717329 -86.294384  39.175402 -76.668198"
      ]
     },
     "execution_count": 42,
     "metadata": {},
     "output_type": "execute_result"
    }
   ],
   "source": [
    "df_airports_connections = pd.concat([df.Origin, df.Dest], axis=1).rename_axis(mapper={'Origin':'Origin_iata', 'Dest':'Dest_iata'}, axis='columns')\n",
    "\n",
    "df_airports_connections = df_airports_connections.merge(df_airports_geoloc, \n",
    "                                                        left_on='Origin_iata', \n",
    "                                                        right_on='iata', \n",
    "                                                        how='left').drop(['Origin_iata', 'iata'], axis=1)\\\n",
    "                                                                            .rename_axis(axis='columns',\n",
    "                                                                                         mapper={'lat': 'start_lat',\n",
    "                                                                                                 'long': 'start_lon'})\n",
    "\n",
    "df_airports_connections = df_airports_connections.merge(df_airports_geoloc, \n",
    "                                                        left_on='Dest_iata', \n",
    "                                                        right_on='iata', \n",
    "                                                        how='left').drop(['Dest_iata', 'iata'], axis=1)\\\n",
    "                                                                            .rename_axis(axis='columns',\n",
    "                                                                                         mapper={'lat': 'end_lat',\n",
    "                                                                                                 'long': 'end_lon'}) \n",
    "\n",
    "df_airports_connections.head()"
   ]
  },
  {
   "cell_type": "code",
   "execution_count": 77,
   "metadata": {},
   "outputs": [
    {
     "data": {
      "text/html": [
       "<iframe id=\"igraph\" scrolling=\"no\" style=\"border:none;\" seamless=\"seamless\" src=\"https://plot.ly/~lekkiduchem/12.embed\" height=\"525px\" width=\"100%\"></iframe>"
      ],
      "text/plain": [
       "<plotly.tools.PlotlyDisplay object>"
      ]
     },
     "execution_count": 77,
     "metadata": {},
     "output_type": "execute_result"
    }
   ],
   "source": [
    "# link to online copy: https://plot.ly/~lekkiduchem/12/map-of-random-air-connections/ \n",
    "\n",
    "airports = [ dict(type = 'scattergeo',\n",
    "                  locationmode = 'USA-states',\n",
    "                  lat = df_airports['lat'],\n",
    "                  lon = df_airports['long'],\n",
    "                  hoverinfo = 'text',\n",
    "                  text = df_airports['airport'],\n",
    "                  mode = 'markers',\n",
    "                  marker = dict(size=1, \n",
    "                                color='rgb(255, 0, 0)',\n",
    "                                line = dict(width=3, color='rgba(68, 68, 68, 0)')\n",
    "                               )\n",
    "                 )]\n",
    "\n",
    "df_flights = df_airports_connections.sample(500)\n",
    "flight_paths = []\n",
    "for i in range( len(df_fligts) ):\n",
    "    flight_paths.append(\n",
    "        dict(\n",
    "            type = 'scattergeo',\n",
    "            locationmode = 'USA-states',\n",
    "            lon = [ df_flights.loc[df_flights.index[i], 'start_lon'], df_flights.loc[df_flights.index[i], 'end_lon'] ],\n",
    "            lat = [ df_flights.loc[df_flights.index[i], 'start_lat'], df_flights.loc[df_flights.index[i], 'end_lat'] ],\n",
    "            mode = 'lines',\n",
    "            line = dict(\n",
    "                width = 1,\n",
    "                color = 'red',\n",
    "            )\n",
    "#             opacity = float(df_airports_connections['cnt'][i])/float(df_airports_connections['cnt'].max()),\n",
    "        )\n",
    "    )\n",
    "    \n",
    "layout = dict(\n",
    "        title = 'Map of random air connections',\n",
    "        showlegend = False, \n",
    "        geo = dict(\n",
    "            scope='north america',\n",
    "            projection=dict( type='azimuthal equal area' ),\n",
    "            showland = True,\n",
    "            landcolor = 'rgb(243, 243, 243)',\n",
    "            countrycolor = 'rgb(204, 204, 204)',\n",
    "        ),\n",
    "    )\n",
    "    \n",
    "fig = dict( data=flight_paths + airports, layout=layout )\n",
    "py.iplot( fig, filename='d3-flight-paths' )"
   ]
  },
  {
   "cell_type": "markdown",
   "metadata": {},
   "source": [
    "## 4. What would be really fun to do\n",
    "<p>How awesome would it be, if we could create an algorithm which would predict likelyhood of our flight being cancelled/delayed. We could use dozens of features like: weather, airline performance metrics, day of the week, holiday, number of flights which are being handled by the airport on that day. </p>  \n",
    "\n",
    "<p>We would have to gather historical data for all as many past flights as possible, clean it up and feed to some neural network, which would train on the data. We would use our features to feed import neurons in input layer, in odered to compute value of single neuron in output layer, to give us the likelyhood</p>"
   ]
  }
 ],
 "metadata": {
  "kernelspec": {
   "display_name": "Python 3",
   "language": "python",
   "name": "python3"
  },
  "language_info": {
   "codemirror_mode": {
    "name": "ipython",
    "version": 3
   },
   "file_extension": ".py",
   "mimetype": "text/x-python",
   "name": "python",
   "nbconvert_exporter": "python",
   "pygments_lexer": "ipython3",
   "version": "3.6.1"
  }
 },
 "nbformat": 4,
 "nbformat_minor": 2
}
